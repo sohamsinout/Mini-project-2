{
 "cells": [
  {
   "cell_type": "code",
   "execution_count": 1,
   "id": "f08e3d6e",
   "metadata": {},
   "outputs": [],
   "source": [
    "import tkinter as tk\n",
    "from tkinter import ttk\n",
    "from tkinter import messagebox\n",
    "\n",
    "def submit_form():\n",
    "    name = name_entry.get()\n",
    "    age = age_spin.get()\n",
    "    gender = gender_combo.get()\n",
    "    city = city_combo.get()\n",
    "    \n",
    "    if name and age and gender and city:\n",
    "        msg = f\"Name: {name}\\nAge: {age}\\nGender: {gender}\\nCity: {city}\"\n",
    "        messagebox.showinfo(\"Application Submitted\", msg)\n",
    "    else:\n",
    "        messagebox.showwarning(\"Incomplete Form\", \"Please fill all fields.\")\n",
    "\n",
    "root = tk.Tk()\n",
    "root.title(\"Job Application Form\")\n",
    "root.geometry(\"400x300\")\n",
    "\n",
    "frame = ttk.Frame(root, padding=20)\n",
    "frame.pack(fill=tk.BOTH, expand=True)\n",
    "\n",
    "ttk.Label(frame, text=\"Full Name:\").grid(row=0, column=0, sticky=\"e\", padx=5, pady=10)\n",
    "name_entry = ttk.Entry(frame, width=30)\n",
    "name_entry.grid(row=0, column=1, pady=10)\n",
    "\n",
    "ttk.Label(frame, text=\"Age:\").grid(row=1, column=0, sticky=\"e\", padx=5)\n",
    "age_spin = tk.Spinbox(frame, from_=18, to=65, width=5)\n",
    "age_spin.grid(row=1, column=1, sticky=\"w\")\n",
    "\n",
    "ttk.Label(frame, text=\"Gender:\").grid(row=2, column=0, sticky=\"e\", padx=5, pady=10)\n",
    "gender_combo = ttk.Combobox(frame, values=[\"Male\", \"Female\", \"Other\"], state=\"readonly\")\n",
    "gender_combo.grid(row=2, column=1, pady=10)\n",
    "gender_combo.set(\"Select\")\n",
    "\n",
    "ttk.Label(frame, text=\"City:\").grid(row=3, column=0, sticky=\"e\", padx=5)\n",
    "city_combo = ttk.Combobox(frame, values=[\"Mumbai\", \"Delhi\", \"Bangalore\", \"Chennai\", \"Pune\"], state=\"readonly\")\n",
    "city_combo.grid(row=3, column=1)\n",
    "city_combo.set(\"Select\")\n",
    "\n",
    "submit_btn = ttk.Button(frame, text=\"Submit\", command=submit_form)\n",
    "submit_btn.grid(row=4, column=1, pady=20)\n",
    "\n",
    "root.mainloop()"
   ]
  }
 ],
 "metadata": {
  "kernelspec": {
   "display_name": "Python 3 (ipykernel)",
   "language": "python",
   "name": "python3"
  },
  "language_info": {
   "codemirror_mode": {
    "name": "ipython",
    "version": 3
   },
   "file_extension": ".py",
   "mimetype": "text/x-python",
   "name": "python",
   "nbconvert_exporter": "python",
   "pygments_lexer": "ipython3",
   "version": "3.13.4"
  }
 },
 "nbformat": 4,
 "nbformat_minor": 5
}
